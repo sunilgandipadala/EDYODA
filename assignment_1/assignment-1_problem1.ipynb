{
  "nbformat": 4,
  "nbformat_minor": 0,
  "metadata": {
    "colab": {
      "provenance": [],
      "collapsed_sections": []
    },
    "kernelspec": {
      "name": "python3",
      "display_name": "Python 3"
    },
    "language_info": {
      "name": "python"
    }
  },
  "cells": [
    {
      "cell_type": "markdown",
      "source": [
        "**Write a Python program to get the Fibonacci series between 0 to 50**\n",
        "\n",
        "Note : The Fibonacci Sequence is the series of numbers :\n",
        "0, 1, 1, 2, 3, 5, 8, 13, 21, ....\n",
        "Every next number is found by adding up the two numbers before it.\n",
        "Expected Output : 1 1 2 3 5 8 13 21 34\n",
        "\"\"\"\n",
        "\n"
      ],
      "metadata": {
        "id": "SbtVvXzrEZrO"
      }
    },
    {
      "cell_type": "code",
      "source": [
        "a = 0\n",
        "b = 1\n",
        "print(a,b,end =\" \")\n",
        "c=a+b\n",
        "while(c<50):\n",
        "  print(c,end =\" \")\n",
        "  a=b\n",
        "  b=c\n",
        "  c=a+b"
      ],
      "metadata": {
        "colab": {
          "base_uri": "https://localhost:8080/"
        },
        "id": "khzYcGShmiCO",
        "outputId": "80df5db7-5f5d-41fc-8c9d-15a5f42eefbf"
      },
      "execution_count": 1,
      "outputs": [
        {
          "output_type": "stream",
          "name": "stdout",
          "text": [
            "0 1 1 2 3 5 8 13 21 34 "
          ]
        }
      ]
    },
    {
      "cell_type": "code",
      "source": [],
      "metadata": {
        "id": "DRud2W5mpF6z"
      },
      "execution_count": null,
      "outputs": []
    }
  ]
}