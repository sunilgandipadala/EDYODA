{
  "nbformat": 4,
  "nbformat_minor": 0,
  "metadata": {
    "colab": {
      "provenance": [],
      "collapsed_sections": []
    },
    "kernelspec": {
      "name": "python3",
      "display_name": "Python 3"
    },
    "language_info": {
      "name": "python"
    }
  },
  "cells": [
    {
      "cell_type": "markdown",
      "source": [
        "Write a Python program to reverse a string.\n",
        "\n",
        "\n",
        "\n",
        "﻿Sample String : \"1234abcd\"\n",
        "\n",
        "Expected Output : \"dcba4321\"\n",
        "\n",
        "\n",
        "\n",
        "Should have used the function in the code - 15\n",
        "\n",
        "Must get the expected output - 15"
      ],
      "metadata": {
        "id": "PbUZXuujdMMX"
      }
    },
    {
      "cell_type": "code",
      "source": [
        "def string_reverse(string):\n",
        "  return string[::-1]\n",
        "string = input()\n",
        "print(string_reverse(string))"
      ],
      "metadata": {
        "id": "DRud2W5mpF6z",
        "colab": {
          "base_uri": "https://localhost:8080/"
        },
        "outputId": "e746adce-5127-4606-b1cd-c992c4dfc52b"
      },
      "execution_count": 1,
      "outputs": [
        {
          "output_type": "stream",
          "name": "stdout",
          "text": [
            "1234abced\n",
            "decba4321\n"
          ]
        }
      ]
    },
    {
      "cell_type": "code",
      "source": [],
      "metadata": {
        "id": "DD20w0SFJFYY"
      },
      "execution_count": null,
      "outputs": []
    }
  ]
}