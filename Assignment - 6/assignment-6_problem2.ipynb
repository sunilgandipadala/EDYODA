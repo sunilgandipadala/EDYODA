{
  "nbformat": 4,
  "nbformat_minor": 0,
  "metadata": {
    "colab": {
      "provenance": []
    },
    "kernelspec": {
      "name": "python3",
      "display_name": "Python 3"
    },
    "language_info": {
      "name": "python"
    }
  },
  "cells": [
    {
      "cell_type": "markdown",
      "source": [
        "## Create an assignment for File handling of JSON files in Python"
      ],
      "metadata": {
        "id": "Y-pwgnmgsK25"
      }
    },
    {
      "cell_type": "markdown",
      "source": [
        "Assignment 2\n",
        "\n",
        "👉 1. Create a class named ‘Dog’. It should have a constructor which accepts its name, age and coat color. You must perform the following operations:\n",
        "\n",
        "🔴 a. It should have a function ‘description()’ which prints the name and age of the dog.\n",
        "\n",
        "🔴 b. It should have a function ‘get_info()’ which prints the coat color of the dog.\n",
        "\n",
        "🔴 c. Create child classes ‘JackRussellTerrier’ and ‘Bulldog’ which is inherited from the class ‘Dog’. It should have at least two methods of its own.\n",
        "  \n",
        "🔴 d. Create objects and implement the above functionalities."
      ],
      "metadata": {
        "id": "syXGYgLVIjlC"
      }
    },
    {
      "cell_type": "code",
      "source": [
        "class Dog:\n",
        "  def __init__(self,name,age,coat_color):\n",
        "    self.name = name\n",
        "    self.age = age\n",
        "    self.coat_color = coat_color\n",
        "  def description(self):\n",
        "    print(\"Dog's Name :\",self.name)\n",
        "    print(\"Dog's Age :\",self.age)\n",
        "  def get_info(self):\n",
        "    print(\"Coat Color of Dog: \",self.coat_color)\n",
        "class JackRussellTerrier(Dog):\n",
        "  def set_other_details(self,weight,height):\n",
        "    self.weight =weight\n",
        "    self.height = height\n",
        "  def get_complete_details(self):\n",
        "    print(\"Dog -\",self.name,\"- Details\")\n",
        "    print(\"Age :\",self.age)\n",
        "    print(\"Coat color :\",self.coat_color)\n",
        "    print(\"Weight :\",self.weight)\n",
        "    print(\"Height :\",self.height)\n",
        "class BullDog(Dog):\n",
        "  def set_other_details(self,weight,height):\n",
        "    self.weight =weight\n",
        "    self.height = height\n",
        "  def get_complete_details(self):\n",
        "    print(\"Dog -\",self.name,\"- Details\")\n",
        "    print(\"Age :\",self.age)\n",
        "    print(\"Coat color :\",self.coat_color)\n",
        "    print(\"Weight :\",self.weight)\n",
        "    print(\"Height :\",self.height)\n",
        "\n",
        "dog1 = JackRussellTerrier(\"JACK\",5,\"brown\")\n",
        "dog1.description()\n",
        "dog1.set_other_details(30,50)\n",
        "dog1.get_complete_details()\n",
        "\n",
        "dog2 = BullDog(\"Bull\",10,\"Black\")\n",
        "dog2.set_other_details(40,40)\n",
        "dog2.get_complete_details()"
      ],
      "metadata": {
        "colab": {
          "base_uri": "https://localhost:8080/"
        },
        "id": "cJlTWCQOIprX",
        "outputId": "64b8619d-049a-4f5f-fdf1-b7dd94f58055"
      },
      "execution_count": 7,
      "outputs": [
        {
          "output_type": "stream",
          "name": "stdout",
          "text": [
            "Dog's Name : JACK\n",
            "Dog's Age : 5\n",
            "Dog - JACK - Details\n",
            "Age : 5\n",
            "Coat color : brown\n",
            "Weight : 30\n",
            "Height : 50\n",
            "Dog - Bull - Details\n",
            "Age : 10\n",
            "Coat color : Black\n",
            "Weight : 40\n",
            "Height : 40\n"
          ]
        }
      ]
    },
    {
      "cell_type": "code",
      "source": [],
      "metadata": {
        "id": "b-YAAy6WWqZO"
      },
      "execution_count": null,
      "outputs": []
    }
  ]
}