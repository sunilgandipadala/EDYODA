{
  "nbformat": 4,
  "nbformat_minor": 0,
  "metadata": {
    "colab": {
      "provenance": [],
      "collapsed_sections": []
    },
    "kernelspec": {
      "name": "python3",
      "display_name": "Python 3"
    },
    "language_info": {
      "name": "python"
    }
  },
  "cells": [
    {
      "cell_type": "markdown",
      "source": [
        "Write a Python program to triple all numbers of a given list of integers. Use Python map.\n",
        "\n",
        "\n",
        "\n",
        "sample list: [1, 2, 3, 4, 5, 6, 7]\n",
        "\n",
        "\n",
        "\n",
        "Triple of list numbers:\n",
        "\n",
        "[3, 6, 9, 12, 15, 18, 21]\n",
        "\n",
        "\n",
        "\n",
        "Must use map to find the expected output - 30"
      ],
      "metadata": {
        "id": "PbUZXuujdMMX"
      }
    },
    {
      "cell_type": "code",
      "source": [
        "sample_list =list(map(int,input().split()))\n",
        "#lets triple the elments\n",
        "def triple(num):\n",
        "  return num*3\n",
        "triple_list = list(map(triple,sample_list))\n",
        "print(triple_list)"
      ],
      "metadata": {
        "id": "BjanVhJgC8o8",
        "colab": {
          "base_uri": "https://localhost:8080/"
        },
        "outputId": "a583ce62-e93b-4d26-8c2d-45b14dcf0e3e"
      },
      "execution_count": 5,
      "outputs": [
        {
          "output_type": "stream",
          "name": "stdout",
          "text": [
            "1 2 3 4 5 6\n",
            "[3, 6, 9, 12, 15, 18]\n"
          ]
        }
      ]
    },
    {
      "cell_type": "code",
      "source": [],
      "metadata": {
        "id": "5VDFmfGeLCHM"
      },
      "execution_count": null,
      "outputs": []
    }
  ]
}