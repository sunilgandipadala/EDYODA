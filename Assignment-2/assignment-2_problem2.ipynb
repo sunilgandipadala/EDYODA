{
  "nbformat": 4,
  "nbformat_minor": 0,
  "metadata": {
    "colab": {
      "provenance": [],
      "collapsed_sections": []
    },
    "kernelspec": {
      "name": "python3",
      "display_name": "Python 3"
    },
    "language_info": {
      "name": "python"
    }
  },
  "cells": [
    {
      "cell_type": "markdown",
      "source": [
        "Write a Python program to get a list, sorted in increasing order by the last element in each tuple from a given list of non-empty tuples\n",
        "\n",
        "Print the expected output - 50\n",
        "  \n",
        "\n",
        "Sample List : [(2, 5), (1, 2), (4, 4), (2, 3), (2, 1)]\n",
        "\n",
        "Expected Result : [(2, 1), (1, 2), (2, 3), (4, 4), (2, 5)]"
      ],
      "metadata": {
        "id": "PbUZXuujdMMX"
      }
    },
    {
      "cell_type": "code",
      "source": [
        "in_list = [(2,5),(1,2),(4,4),(2,3),(2,1)]\n",
        "sorted(in_list,key = lambda x:x[1])\n"
      ],
      "metadata": {
        "id": "DRud2W5mpF6z",
        "colab": {
          "base_uri": "https://localhost:8080/"
        },
        "outputId": "7391dd68-a46a-4329-ad8e-67d7000afa98"
      },
      "execution_count": 7,
      "outputs": [
        {
          "output_type": "execute_result",
          "data": {
            "text/plain": [
              "[(2, 1), (1, 2), (2, 3), (4, 4), (2, 5)]"
            ]
          },
          "metadata": {},
          "execution_count": 7
        }
      ]
    },
    {
      "cell_type": "code",
      "source": [],
      "metadata": {
        "id": "s5_HCHnveRNT"
      },
      "execution_count": null,
      "outputs": []
    }
  ]
}