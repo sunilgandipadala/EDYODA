{
  "nbformat": 4,
  "nbformat_minor": 0,
  "metadata": {
    "colab": {
      "provenance": [],
      "collapsed_sections": []
    },
    "kernelspec": {
      "name": "python3",
      "display_name": "Python 3"
    },
    "language_info": {
      "name": "python"
    }
  },
  "cells": [
    {
      "cell_type": "markdown",
      "source": [
        "**Write a Python program to count the number of even and odd numbers from a series of numbers.**\n",
        "\n",
        "\n",
        "\n",
        "Sample numbers : numbers = (1, 2, 3, 4, 5, 6, 7, 8, 9) \n",
        "\n",
        "Expected Output :\n",
        "\n",
        "Number of even numbers : 4\n",
        "\n",
        "Number of odd numbers : 5"
      ],
      "metadata": {
        "id": "SbtVvXzrEZrO"
      }
    },
    {
      "cell_type": "code",
      "source": [
        "numbers = [int(i) for i in input().split()]\n",
        "even_count =odd_count=0\n",
        "for i in numbers:\n",
        "  if i%2 == 0:\n",
        "    even_count+=1\n",
        "  else:\n",
        "    odd_count+=1\n",
        "print(\"Number of even numbers:\",even_count)\n",
        "print(\"Number of odd numbers:\",odd_count)"
      ],
      "metadata": {
        "colab": {
          "base_uri": "https://localhost:8080/"
        },
        "id": "khzYcGShmiCO",
        "outputId": "d4678689-166d-45c4-c8e2-6e85b41cb2ec"
      },
      "execution_count": null,
      "outputs": [
        {
          "output_type": "stream",
          "name": "stdout",
          "text": [
            "1 2 3 4 5 6 7 8 9\n",
            "Number of even numbers: 4\n",
            "Number of odd numbers: 5\n"
          ]
        }
      ]
    },
    {
      "cell_type": "code",
      "source": [],
      "metadata": {
        "id": "DRud2W5mpF6z"
      },
      "execution_count": null,
      "outputs": []
    }
  ]
}