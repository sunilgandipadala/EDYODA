{
  "nbformat": 4,
  "nbformat_minor": 0,
  "metadata": {
    "colab": {
      "provenance": [],
      "collapsed_sections": []
    },
    "kernelspec": {
      "name": "python3",
      "display_name": "Python 3"
    },
    "language_info": {
      "name": "python"
    }
  },
  "cells": [
    {
      "cell_type": "markdown",
      "source": [
        "**Write a Python program that accepts a word from the user and reverse it.**\n",
        "\n",
        "Sample Test Case\n",
        "Input : Edyoda\n",
        "\n",
        "output: adoydE"
      ],
      "metadata": {
        "id": "SbtVvXzrEZrO"
      }
    },
    {
      "cell_type": "code",
      "source": [
        "word = input()\n",
        "print(word[::-1])"
      ],
      "metadata": {
        "colab": {
          "base_uri": "https://localhost:8080/"
        },
        "id": "khzYcGShmiCO",
        "outputId": "1a34d798-0ae5-4fd0-d18d-1eb7712f64f2"
      },
      "execution_count": 2,
      "outputs": [
        {
          "output_type": "stream",
          "name": "stdout",
          "text": [
            "Edyoda\n",
            "adoydE\n"
          ]
        }
      ]
    },
    {
      "cell_type": "code",
      "source": [],
      "metadata": {
        "id": "DRud2W5mpF6z"
      },
      "execution_count": null,
      "outputs": []
    }
  ]
}