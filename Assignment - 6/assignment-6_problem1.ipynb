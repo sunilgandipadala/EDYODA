{
  "nbformat": 4,
  "nbformat_minor": 0,
  "metadata": {
    "colab": {
      "provenance": []
    },
    "kernelspec": {
      "name": "python3",
      "display_name": "Python 3"
    },
    "language_info": {
      "name": "python"
    }
  },
  "cells": [
    {
      "cell_type": "markdown",
      "source": [
        "## Create an assignment for File handling of JSON files in Python"
      ],
      "metadata": {
        "id": "Y-pwgnmgsK25"
      }
    },
    {
      "cell_type": "markdown",
      "source": [
        "Assignment 1\n",
        "\n",
        "👉 1. Create a JSON file (employee.json) containing employee information of minimum 5 employees. Each employee information consists of Name, DOB, Height, City, State. Write a python program that reads this information from the JSON file and saves the information into a list of objects of Employee class. Finally print the list of the Employee objects.\n"
      ],
      "metadata": {
        "id": "syXGYgLVIjlC"
      }
    },
    {
      "cell_type": "code",
      "source": [
        "##create a employee.json file... of at least 5 employees data.\n",
        "employee = {\n",
        "    1:{\"Name\":\"Employee1\",\"DOB\":\"01-01-1999\",\"Height\":159,\"City\":\"Vizag\",\"State\":\"AP\"},\n",
        "    2:{\"Name\":\"Employee2\",\"DOB\":\"01-01-2000\",\"Height\":160,\"City\":\"Vizag\",\"State\":\"AP\"},\n",
        "    3:{\"Name\":\"Employee3\",\"DOB\":\"01-01-1999\",\"Height\":161,\"City\":\"Vishaka\",\"State\":\"AP\"},\n",
        "    4:{\"Name\":\"Employee4\",\"DOB\":\"01-01-1999\",\"Height\":159,\"City\":\"Vizag\",\"State\":\"AP\"},\n",
        "    5:{\"Name\":\"Employee1\",\"DOB\":\"01-01-1899\",\"Height\":169,\"City\":\"Krishna\",\"State\":\"AP\"}\n",
        "    }\n",
        "import json\n",
        "\n",
        "with open(\"employee.json\",\"w\") as file:\n",
        "  json.dump(employee,file)\n",
        "\n",
        "file.close()\n",
        "\n",
        "#now read the employee data from the file.. \n",
        "class Employee:\n",
        "  def __init__(self,employe):\n",
        "    self.name = employe[\"Name\"]\n",
        "    self.dob = employe[\"DOB\"]\n",
        "    self.height = employe[\"Height\"]\n",
        "    self.city = employe[\"City\"]\n",
        "    self.state = employe[\"State\"]\n",
        "  \n",
        "  def display(self):\n",
        "    return (self.name,self.dob,self.height,self.city,self.state)\n",
        "\n",
        "with open(\"employee.json\",\"r\") as file:\n",
        "  employees = json.load(file)\n",
        "employee_objects = []\n",
        "for i in employees:\n",
        "  data = employees[i]\n",
        "  emp_obj = Employee(data)\n",
        "  employee_objects.append(emp_obj)\n",
        "\n",
        "# displaying the list of objects...\n",
        "for i in employee_objects:\n",
        "  print(i.display())\n",
        "\n",
        "  \n"
      ],
      "metadata": {
        "colab": {
          "base_uri": "https://localhost:8080/"
        },
        "id": "cJlTWCQOIprX",
        "outputId": "d1ff48eb-dad7-4f00-fa77-d1b3b98d9a36"
      },
      "execution_count": 5,
      "outputs": [
        {
          "output_type": "stream",
          "name": "stdout",
          "text": [
            "File... created...\n",
            "('Employee1', '01-01-1999', 159, 'Vizag', 'AP')\n",
            "('Employee2', '01-01-2000', 160, 'Vizag', 'AP')\n",
            "('Employee3', '01-01-1999', 161, 'Vishaka', 'AP')\n",
            "('Employee4', '01-01-1999', 159, 'Vizag', 'AP')\n",
            "('Employee1', '01-01-1899', 169, 'Krishna', 'AP')\n"
          ]
        }
      ]
    },
    {
      "cell_type": "markdown",
      "source": [
        "👉 2. Create a dictionary of any 7 Indian states and their capitals. Write this into a JSON file."
      ],
      "metadata": {
        "id": "0RAUo7s0NcS6"
      }
    },
    {
      "cell_type": "code",
      "source": [
        "India = {\n",
        "    \"Andhra Pradesh\":\"Amaravathi\",\n",
        "    \"Bihar\":\"Patna\",\n",
        "    \"Goa\":\"Panaji\",\n",
        "    \"Haryana\":\"Chandighar\",\n",
        "    \"Maharastra\":\"Mumbai\",\n",
        "    \"Rajastan\":\"Jaipur\",\n",
        "    \"Tamilnadu\":\"Chennai\"\n",
        "}\n",
        "import json\n",
        "\n",
        "with open(\"states_capitals.json\",\"w\") as file:\n",
        "  json.dump(India,file)\n",
        "\n",
        "print(\"File... created...\")\n"
      ],
      "metadata": {
        "id": "R2_An76ZJryB",
        "colab": {
          "base_uri": "https://localhost:8080/"
        },
        "outputId": "5a055ef6-72fd-48b9-97df-8f2f1fa99443"
      },
      "execution_count": 6,
      "outputs": [
        {
          "output_type": "stream",
          "name": "stdout",
          "text": [
            "File... created...\n"
          ]
        }
      ]
    }
  ]
}