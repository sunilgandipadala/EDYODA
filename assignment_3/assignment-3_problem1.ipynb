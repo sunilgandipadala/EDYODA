{
  "nbformat": 4,
  "nbformat_minor": 0,
  "metadata": {
    "colab": {
      "provenance": [],
      "collapsed_sections": []
    },
    "kernelspec": {
      "name": "python3",
      "display_name": "Python 3"
    },
    "language_info": {
      "name": "python"
    }
  },
  "cells": [
    {
      "cell_type": "markdown",
      "source": [
        " Write a Python function to sum all the numbers in a list.\n",
        "\n",
        "\n",
        "\n",
        "Sample List : (8, 2, 3, 0, 7)\n",
        "\n",
        "Expected Output : 20\n",
        "\n",
        "\n",
        "\n",
        "Explanation:\n",
        "\n",
        "\n",
        "\n",
        "Summation should like 8+2+3+0+7 = 20\n",
        "\n",
        "\n",
        "\n",
        "Should have used function to implement the code - 15\n",
        "\n",
        "Must print the Expected output - 15"
      ],
      "metadata": {
        "id": "PbUZXuujdMMX"
      }
    },
    {
      "cell_type": "code",
      "source": [
        "def summation(sample_list):\n",
        "  summ = 0\n",
        "  for i in sample_list:\n",
        "    summ +=i\n",
        "  return summ\n",
        "\n",
        "sample_list = [int(i) for i in input().split()]\n",
        "print(summation(sample_list))\n"
      ],
      "metadata": {
        "id": "DRud2W5mpF6z",
        "colab": {
          "base_uri": "https://localhost:8080/"
        },
        "outputId": "e5a7333f-54d2-4672-c24c-c505c981ec8d"
      },
      "execution_count": 1,
      "outputs": [
        {
          "output_type": "stream",
          "name": "stdout",
          "text": [
            "8 2 3 0 7\n",
            "20\n"
          ]
        }
      ]
    }
  ]
}