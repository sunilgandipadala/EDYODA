{
  "nbformat": 4,
  "nbformat_minor": 0,
  "metadata": {
    "colab": {
      "provenance": [],
      "collapsed_sections": []
    },
    "kernelspec": {
      "name": "python3",
      "display_name": "Python 3"
    },
    "language_info": {
      "name": "python"
    }
  },
  "cells": [
    {
      "cell_type": "markdown",
      "source": [
        "Write a Python program to create a lambda function that adds 25 to a given number passed in as an argument.\n",
        "\n",
        "\n",
        "\n",
        "sample input: 10\n",
        "\n",
        "sample output: 35\n",
        "\n",
        "\n",
        "\n",
        "should use lambda function to solve the problem - 15\n",
        "\n",
        "should print the output - 15"
      ],
      "metadata": {
        "id": "PbUZXuujdMMX"
      }
    },
    {
      "cell_type": "code",
      "source": [
        "add25 = lambda x: x+25\n",
        "print(add25(10))"
      ],
      "metadata": {
        "id": "BjanVhJgC8o8",
        "colab": {
          "base_uri": "https://localhost:8080/"
        },
        "outputId": "fe25a598-54c4-43e1-d4d0-b81a8881332a"
      },
      "execution_count": 2,
      "outputs": [
        {
          "output_type": "stream",
          "name": "stdout",
          "text": [
            "35\n"
          ]
        }
      ]
    },
    {
      "cell_type": "code",
      "source": [],
      "metadata": {
        "id": "5VDFmfGeLCHM"
      },
      "execution_count": null,
      "outputs": []
    }
  ]
}