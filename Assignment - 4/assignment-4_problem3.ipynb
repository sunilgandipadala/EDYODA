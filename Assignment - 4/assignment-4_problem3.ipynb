{
  "nbformat": 4,
  "nbformat_minor": 0,
  "metadata": {
    "colab": {
      "provenance": [],
      "collapsed_sections": []
    },
    "kernelspec": {
      "name": "python3",
      "display_name": "Python 3"
    },
    "language_info": {
      "name": "python"
    }
  },
  "cells": [
    {
      "cell_type": "markdown",
      "source": [
        "Write a Python program to square the elements of a list using map() function.\n",
        "\n",
        "\n",
        "\n",
        "Sample List: [4, 5, 2, 9]\n",
        "\n",
        "Square the elements of the list:\n",
        "\n",
        "[16, 25, 4, 81]\n",
        "\n",
        "\n",
        "\n",
        "Must have list as the input - 15\n",
        "\n",
        "Must Use map() function to solve the problem - 15\n",
        "\n",
        "Must give the expected output - 10\n",
        "\n"
      ],
      "metadata": {
        "id": "PbUZXuujdMMX"
      }
    },
    {
      "cell_type": "code",
      "source": [
        "sample_list =list(map(int,input().split()))\n",
        "#lets triple the elments\n",
        "def square(num):\n",
        "  return num*num\n",
        "square_list = list(map(square,sample_list))\n",
        "print(square_list)"
      ],
      "metadata": {
        "id": "BjanVhJgC8o8",
        "colab": {
          "base_uri": "https://localhost:8080/"
        },
        "outputId": "a45c0d4e-02fc-49c6-b59b-ec844a5abcff"
      },
      "execution_count": 6,
      "outputs": [
        {
          "output_type": "stream",
          "name": "stdout",
          "text": [
            "4 5 2 9\n",
            "[16, 25, 4, 81]\n"
          ]
        }
      ]
    },
    {
      "cell_type": "code",
      "source": [],
      "metadata": {
        "id": "5VDFmfGeLCHM"
      },
      "execution_count": null,
      "outputs": []
    }
  ]
}