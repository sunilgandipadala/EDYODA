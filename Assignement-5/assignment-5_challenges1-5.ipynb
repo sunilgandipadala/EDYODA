{
  "nbformat": 4,
  "nbformat_minor": 0,
  "metadata": {
    "colab": {
      "provenance": [],
      "collapsed_sections": []
    },
    "kernelspec": {
      "name": "python3",
      "display_name": "Python 3"
    },
    "language_info": {
      "name": "python"
    }
  },
  "cells": [
    {
      "cell_type": "markdown",
      "source": [
        "Challenge 1: Square Numbers and Return Their Sum\n",
        "\n",
        "🔴 In this challenge, you need to implement a method that squares passing variables and returns their sum.\n",
        "\n",
        "Problem statement: Implement a class Point that has three properties and a method. All these attributes (properties and methods) should be public. This problem can be broken down into two tasks:\n",
        "\n",
        "Task 1: 👉 Implement a constructor to initialize the values of three properties: x, y, and z.\n",
        "\n",
        "Task 2: 👉 Implement a method, sqSum(), in the Point class which squares x, y, and z and returns their sum.\n",
        "\n",
        "Sample properties 1, 3, 5\n",
        "\n",
        "Sample method output 35\n",
        "\n",
        "---\n",
        "\n"
      ],
      "metadata": {
        "id": "Y-pwgnmgsK25"
      }
    },
    {
      "cell_type": "code",
      "source": [
        "class Point:\n",
        "    def __init__(self,x,y,z):\n",
        "        self.x = x\n",
        "        self.y = y\n",
        "        self.z = z\n",
        "\n",
        "    def sqSum(self):\n",
        "        self.x **= 2\n",
        "        self.y **= 2\n",
        "        self.z **= 2\n",
        "        return (self.x+self.y+self.z)\n",
        "p = Point(1,3,5)\n",
        "print(p.sqSum())"
      ],
      "metadata": {
        "colab": {
          "base_uri": "https://localhost:8080/"
        },
        "id": "RMzD2zdVsFfy",
        "outputId": "3c4972d1-a800-4d8c-fae6-5ebcf67fad22"
      },
      "execution_count": null,
      "outputs": [
        {
          "output_type": "stream",
          "name": "stdout",
          "text": [
            "35\n"
          ]
        }
      ]
    },
    {
      "cell_type": "markdown",
      "source": [
        "Challenge 2: Implement a Calculator Class\n",
        "\n",
        "🔴 In this exercise, you have to implement a calculator that can perform addition, subtraction, multiplication, and division.\n",
        "\n",
        "Problem statement Write a Python class called Calculator by completing the tasks below:\n",
        "\n",
        "Task 1\n",
        "\n",
        "👉 Initializer\n",
        "\n",
        "Implement an initializer to initialize the values of num1 and num2. Properties\n",
        "\n",
        "• num1\n",
        "• num2\n",
        "Task 2\n",
        "\n",
        "👉 Methods\n",
        "\n",
        "• add() is a method that returns the sum of num1 and num2.\n",
        "• subtract() is a method that returns the subtraction of num1 from num2.\n",
        "• multiply() is a method that returns the product of num1 and num2.\n",
        "• divide() is a method that returns the division of num2 by num1.\n",
        "\n",
        "Input - Pass numbers (integers or floats) in the initializer.\n",
        "\n",
        "Output - addition, subtraction, division, and multiplication\n",
        "\n",
        "Sample input\n",
        "\n",
        "obj = Calculator(10, 94)\n",
        "\n",
        "obj.add()\n",
        "\n",
        "obj.subtract()\n",
        "\n",
        "obj.multiply()\n",
        "\n",
        "obj.divide()\n",
        "\n",
        "Sample output\n",
        "\n",
        "104\n",
        "\n",
        "84\n",
        "\n",
        "940\n",
        "\n",
        "9.4\n",
        "\n",
        "\n"
      ],
      "metadata": {
        "id": "7KNd1NPN4Qjy"
      }
    },
    {
      "cell_type": "code",
      "source": [
        "class Calculator:\n",
        "\n",
        "    def __init__(self,num1,num2):\n",
        "        self.num1 = num1\n",
        "        self.num2 = num2\n",
        "    def add(self):\n",
        "        return self.num1 + self.num2\n",
        "    def subtract(self):\n",
        "        return self.num2- self.num1\n",
        "    def multiply(self):\n",
        "        return self.num1 * self.num2\n",
        "    def divide(self):\n",
        "        return self.num2/self.num1\n",
        "\n",
        "obj = Calculator(10, 94)\n",
        "print(obj.add())\n",
        "print(obj.subtract())\n",
        "print(obj.multiply())\n",
        "print(obj.divide())"
      ],
      "metadata": {
        "id": "meGf23l7tQ91",
        "colab": {
          "base_uri": "https://localhost:8080/"
        },
        "outputId": "b3a80da8-677e-44a2-f30f-20d9640f4eb1"
      },
      "execution_count": 5,
      "outputs": [
        {
          "output_type": "stream",
          "name": "stdout",
          "text": [
            "104\n",
            "84\n",
            "940\n",
            "9.4\n"
          ]
        }
      ]
    },
    {
      "cell_type": "markdown",
      "source": [
        "#Challenge 3: Implement the Complete Student Class\n",
        "Problem statement\n",
        "\n",
        "Implement the complete Student class by completing the tasks below\n",
        "\n",
        "Task\n",
        "\n",
        "👉 Implement the following properties as private:\n",
        "• name\n",
        "\n",
        "• rollNumber\n",
        "\n",
        "Include the following methods to get and set the private properties above:\n",
        "\n",
        "• getName()\n",
        "• setName()\n",
        "• getRollNumber()\n",
        "• setRollNumber()\n",
        "\n",
        " Implement this class according to the rules of encapsulation.\n",
        "\n",
        "Input - Checking all the properties and methods\n",
        "\n",
        "Output - Expecting perfectly defined fields and getter/setters\n",
        "\n",
        "Note: Do not use initializers to initialize the properties. Use the set methods to do so.\n",
        "\n",
        "If the setter is not defined properly, the corresponding getter will also generate an error even if the getter is defined properly."
      ],
      "metadata": {
        "id": "AOCRGZAT6-iz"
      }
    },
    {
      "cell_type": "code",
      "source": [
        "class Student:\n",
        "    def setName(self,name):\n",
        "        self.__name = name\n",
        "    def getName(self):\n",
        "        return Student.__name\n",
        "    def setRollNumber(self,rollNumber):\n",
        "        self.__rollNumber = rollNumber\n",
        "    def getRollNumber(self):\n",
        "        return Student._rollNumber\n",
        "\n",
        "obj = Student()\n",
        "obj.setName(\"Hai\")\n",
        "obj.setRollNumber(\"1\")\n",
        "print(obj.getName)\n",
        "print(obj.getRollNumber)"
      ],
      "metadata": {
        "colab": {
          "base_uri": "https://localhost:8080/"
        },
        "id": "qrHp5kkp643V",
        "outputId": "20f24c60-a3cc-4fff-f771-358adc452bf2"
      },
      "execution_count": 8,
      "outputs": [
        {
          "output_type": "stream",
          "name": "stdout",
          "text": [
            "<bound method Student.getName of <__main__.Student object at 0x7effd8a727d0>>\n",
            "<bound method Student.getRollNumber of <__main__.Student object at 0x7effd8a727d0>>\n"
          ]
        }
      ]
    },
    {
      "cell_type": "markdown",
      "source": [
        "#Challenge 4: Implement a Banking Account\n",
        "🔴 In this challenge, you will implement a banking account using the concepts of inheritance.\n",
        "\n",
        "Problem statement\n",
        "\n",
        "Implement the basic structure of a parent class, Account, and a child class, SavingsAccount.\n",
        "\n",
        "Task 1\n",
        "\n",
        "👉 Implement properties as instance variables, and set them to None or 0.\n",
        "\n",
        "Account has the following properties:\n",
        "\n",
        "    • title\n",
        "    • Balance\n",
        "SavingsAccount has the following properties:\n",
        "\n",
        "    • interestRate\n",
        "\n",
        "Task 2\n",
        "\n",
        "Create an initializer for Account class. The order of parameters should be the following, where Ashish is the title, and 5000 is the account balance:\n",
        "\n",
        "Account(\"Ashish\", 5000)\n",
        "\n",
        "Task 3\n",
        "\n",
        "Implement properties as instance variables, and set them to None or 0.\n",
        "\n",
        "Create an initializer for the SavingsAccount class using the initializer of the Account class in the order below:\n",
        "\n",
        "Account(\"Ashish\", 5000, 5)\n",
        "\n",
        "Here, Ashish is the title and 5000 is the balance and 5 is the interestRate."
      ],
      "metadata": {
        "id": "2Fnmrpzq-stv"
      }
    },
    {
      "cell_type": "code",
      "source": [
        "class Account:\n",
        "    title = None\n",
        "    Balance = 0\n",
        "    def __init__(self,title, balance):\n",
        "        # write your code here\n",
        "        self.title = title\n",
        "        self.Balance = balance\n",
        "\n",
        "class SavingsAccount(Account):\n",
        "    intrestRate = 0\n",
        "    def __init__(self,title,balance,interestRate):\n",
        "        # write your code here\n",
        "        super().__init__(title, balance)\n",
        "        self.interestRate = interestRate"
      ],
      "metadata": {
        "id": "CEkxLV0s8jfB"
      },
      "execution_count": null,
      "outputs": []
    },
    {
      "cell_type": "markdown",
      "source": [
        "#Challenge 5: Handling a Bank Account\n",
        "🔴 In this challenge, you will define methods for handling a bank account using concepts of inheritance.\n",
        "\n",
        "Problem statement\n",
        "\n",
        "In this challenge, we will be extending the previous challenge and implementing methods in the parent class and its corresponding child class.\n",
        "\n",
        "The initializers for both classes have been defined for you.\n",
        "\n",
        "Task 1\n",
        "\n",
        "In the Account class, implement the getBalance() method that returns balance.\n",
        "\n",
        "Task 2\n",
        "\n",
        "In the Account class, implement the deposit(amount) method that adds amount to the balance.\n",
        "\n",
        "It does not return anything.\n",
        "\n",
        "Sample input\n",
        "\n",
        "balance = 2000\n",
        "\n",
        "deposit(500)\n",
        "\n",
        "getbalance()\n",
        "\n",
        "Sample output\n",
        "2500\n",
        "\n",
        "Task 3\n",
        "\n",
        "In the Account class, implement the withdrawal(amount) method that subtracts the amount from the balance.\n",
        "\n",
        "It does not return anything.\n",
        "\n",
        "Sample input\n",
        "\n",
        "balance = 2000\n",
        "\n",
        "withdrawal(500)\n",
        "\n",
        "getbalance()\n",
        "\n",
        "Sample output\n",
        "1500\n",
        "\n",
        "Task 4\n",
        "\n",
        "In the SavingsAccount class, implement an interestAmount() method that returns the interest amount of the current balance.\n",
        "\n",
        "Sample input\n",
        "\n",
        "balance = 2000\n",
        "interestRate = 5\n",
        "interestAmount()\n",
        "\n",
        "Sample Output\n",
        "100"
      ],
      "metadata": {
        "id": "IX7Afb9iAYme"
      }
    },
    {
      "cell_type": "code",
      "source": [
        "class Account:\n",
        "    def __init__(self, title=None, balance=0):\n",
        "        self.title = title\n",
        "        self.balance = balance\n",
        "    def withdrawal(self, amount):\n",
        "        # write code here\n",
        "        self.balance += amount\n",
        "    def deposit(self, amount):\n",
        "        # write code here\n",
        "        self.balance += amount\n",
        "    def getBalance(self):\n",
        "        return self.balance\n",
        "\n",
        "class SavingsAccount(Account):\n",
        "    def __init__(self, title=None, balance=0, interestRate=0):\n",
        "            super().__init__(title, balance)\n",
        "            self.interestRate = interestRate\n",
        "    \n",
        "    def interestAmount(self):\n",
        "        # write code here\n",
        "        self.intrestAmount = self.interestRate * self.balance / 100\n",
        "        return self.intrestAmount\n",
        "\n",
        "#code to test - do not edit this\n",
        "\n",
        "demo1 = SavingsAccount(\"Ashish\", 2000, 5) \n",
        "# initializing a SavingsAccount object\n",
        "demo1.deposit(500)\n",
        "print(demo1.getBalance())\n",
        "demo1.withdrawal(500)\n",
        "print(demo1.getBalance())\n",
        "print(demo1.interestAmount())"
      ],
      "metadata": {
        "colab": {
          "base_uri": "https://localhost:8080/"
        },
        "id": "qk4FF6ziBMcI",
        "outputId": "dc5ac84b-c11c-424b-92c2-366632d81c05"
      },
      "execution_count": 13,
      "outputs": [
        {
          "output_type": "stream",
          "name": "stdout",
          "text": [
            "2500\n",
            "3000\n",
            "150.0\n"
          ]
        }
      ]
    },
    {
      "cell_type": "code",
      "source": [],
      "metadata": {
        "id": "ivWTRt19DTly"
      },
      "execution_count": null,
      "outputs": []
    }
  ]
}