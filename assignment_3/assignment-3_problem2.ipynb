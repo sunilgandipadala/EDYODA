{
  "nbformat": 4,
  "nbformat_minor": 0,
  "metadata": {
    "colab": {
      "provenance": [],
      "collapsed_sections": []
    },
    "kernelspec": {
      "name": "python3",
      "display_name": "Python 3"
    },
    "language_info": {
      "name": "python"
    }
  },
  "cells": [
    {
      "cell_type": "markdown",
      "source": [
        "Write a Python program to reverse a string.\n",
        "\n",
        "\n",
        "\n",
        "﻿Sample String : \"1234abcd\"\n",
        "\n",
        "Expected Output : \"dcba4321\"\n",
        "\n",
        "\n",
        "\n",
        "Should have used the function in the code - 15\n",
        "\n",
        "Must get the expected output - 15"
      ],
      "metadata": {
        "id": "PbUZXuujdMMX"
      }
    },
    {
      "cell_type": "code",
      "source": [
        "String = input()\n",
        "String_list = list(String)\n",
        "String_list.reverse()\n",
        "print(\"\".join(String_list))"
      ],
      "metadata": {
        "id": "DRud2W5mpF6z",
        "colab": {
          "base_uri": "https://localhost:8080/"
        },
        "outputId": "ee815050-ff64-4015-e8db-557c9d1d96bc"
      },
      "execution_count": 5,
      "outputs": [
        {
          "output_type": "stream",
          "name": "stdout",
          "text": [
            "1234abced\n",
            "decba4321\n"
          ]
        }
      ]
    },
    {
      "cell_type": "code",
      "source": [],
      "metadata": {
        "id": "DD20w0SFJFYY"
      },
      "execution_count": null,
      "outputs": []
    }
  ]
}