{
  "nbformat": 4,
  "nbformat_minor": 0,
  "metadata": {
    "colab": {
      "provenance": [],
      "collapsed_sections": []
    },
    "kernelspec": {
      "name": "python3",
      "display_name": "Python 3"
    },
    "language_info": {
      "name": "python"
    }
  },
  "cells": [
    {
      "cell_type": "markdown",
      "source": [
        "Write a Python function that accepts a string and calculate the number of upper case letters and lower case letters.\n",
        "\n",
        "\n",
        "\n",
        "﻿Sample String : 'The quick Brow Fox'\n",
        "\n",
        "Expected Output :\n",
        "\n",
        "No. of Upper case characters : 3\n",
        "\n",
        "No. of Lower case Characters : 12\n",
        "\n",
        "\n",
        "\n",
        "The code must be implemented using Function - 15\n",
        "\n",
        "The function must accept the string - 15\n",
        "\n",
        "Count of upper-case characters must be printed - 5\n",
        "\n",
        "count of lower case character must be printed - 5\n",
        "\n"
      ],
      "metadata": {
        "id": "PbUZXuujdMMX"
      }
    },
    {
      "cell_type": "code",
      "source": [
        "def Count_cases(string):\n",
        "  up_count = low_count =0\n",
        "  for i in string:\n",
        "    if i.isupper():\n",
        "      up_count +=1\n",
        "      continue\n",
        "    if i.islower():\n",
        "      low_count +=1\n",
        "  return up_count,low_count\n",
        "string = input()\n",
        "up_count,low_count = Count_cases(string)\n",
        "print(\"Count of upper-case characters are:\",up_count)\n",
        "print(\"Count of lower-case characters are:\",low_count)"
      ],
      "metadata": {
        "id": "DRud2W5mpF6z",
        "colab": {
          "base_uri": "https://localhost:8080/"
        },
        "outputId": "816c96d0-2027-4586-e50d-a4814f49f697"
      },
      "execution_count": 7,
      "outputs": [
        {
          "output_type": "stream",
          "name": "stdout",
          "text": [
            "The quick Brow Fox\n",
            "Count of upper-case characters are: 3\n",
            "Count of lower-case characters are: 12\n"
          ]
        }
      ]
    },
    {
      "cell_type": "code",
      "source": [],
      "metadata": {
        "id": "DD20w0SFJFYY"
      },
      "execution_count": null,
      "outputs": []
    }
  ]
}